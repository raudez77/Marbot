{
 "cells": [
  {
   "cell_type": "code",
   "execution_count": null,
   "metadata": {},
   "outputs": [],
   "source": [
    "# !pip install pydantic strictyaml openai PyAutoGUI"
   ]
  },
  {
   "cell_type": "code",
   "execution_count": 8,
   "metadata": {},
   "outputs": [],
   "source": [
    "import os \n",
    "import openai\n",
    "from Scripts.MarvinBot import MarBot\n",
    "\n",
    "# Settings ----- Your OpenAi API here -------------\n",
    "# If you dont use os.getenv() just pass the api key \n",
    "\n",
    "\n",
    "# openai.api_key = '123123123123123123123'\n",
    "openai.api_key = os.getenv('OPENAI_API_KEY_VD1500')\n",
    "\n",
    "# Notice that task is just one simple sentences you dont have to worry about index each sentences (1, 2, 3)\n",
    "TASKS = \"\"\"\n",
    "    1. open microsoft word, open a new document\n",
    "    and write a poem about Mike Robert and his company\n",
    "    trying to hire Marvin if he writes an intelligent agent \"\"\""
   ]
  },
  {
   "cell_type": "code",
   "execution_count": 9,
   "metadata": {},
   "outputs": [
    {
     "name": "stdout",
     "output_type": "stream",
     "text": [
      "I am Creating and Keeping your Tasks\n",
      "Action Successfully Done\n"
     ]
    }
   ],
   "source": [
    "# Call the main class and pass the tasks\n",
    "Flow = MarBot(tasks= TASKS)\n",
    "Flow.start_tasks()"
   ]
  },
  {
   "cell_type": "code",
   "execution_count": 10,
   "metadata": {},
   "outputs": [
    {
     "name": "stdout",
     "output_type": "stream",
     "text": [
      "I am Creating and Keeping your Tasks\n",
      "Action Successfully Done\n"
     ]
    }
   ],
   "source": [
    "TASKS = \"\"\"\n",
    "    1. open the calculator and write the first 6 digits of 'pi'\"\"\"\n",
    "\n",
    "# Call the main class and pass the tasks\n",
    "Flow = MarBot(tasks= TASKS)\n",
    "Flow.start_tasks()"
   ]
  }
 ],
 "metadata": {
  "kernelspec": {
   "display_name": "base",
   "language": "python",
   "name": "python3"
  },
  "language_info": {
   "codemirror_mode": {
    "name": "ipython",
    "version": 3
   },
   "file_extension": ".py",
   "mimetype": "text/x-python",
   "name": "python",
   "nbconvert_exporter": "python",
   "pygments_lexer": "ipython3",
   "version": "3.9.12"
  },
  "orig_nbformat": 4
 },
 "nbformat": 4,
 "nbformat_minor": 2
}
